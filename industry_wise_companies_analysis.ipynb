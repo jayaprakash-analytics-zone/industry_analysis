{
 "cells": [
  {
   "cell_type": "code",
   "execution_count": null,
   "id": "92b8cfda",
   "metadata": {},
   "outputs": [],
   "source": []
  },
  {
   "cell_type": "code",
   "execution_count": null,
   "id": "44b7a69d",
   "metadata": {},
   "outputs": [],
   "source": []
  },
  {
   "cell_type": "code",
   "execution_count": null,
   "id": "b270724b",
   "metadata": {},
   "outputs": [],
   "source": [
    "company_about = pd.read_sql_query(\"SELECT * FROM company_about;\", conn)\n",
    "company_about = company_about[['industry','sector','ticker','fullTimeEmployees']]"
   ]
  },
  {
   "cell_type": "code",
   "execution_count": null,
   "id": "d29622cc",
   "metadata": {},
   "outputs": [],
   "source": []
  }
 ],
 "metadata": {
  "kernelspec": {
   "display_name": "Python 3 (ipykernel)",
   "language": "python",
   "name": "python3"
  },
  "language_info": {
   "codemirror_mode": {
    "name": "ipython",
    "version": 3
   },
   "file_extension": ".py",
   "mimetype": "text/x-python",
   "name": "python",
   "nbconvert_exporter": "python",
   "pygments_lexer": "ipython3",
   "version": "3.10.10"
  }
 },
 "nbformat": 4,
 "nbformat_minor": 5
}
